{
 "cells": [
  {
   "cell_type": "markdown",
   "metadata": {},
   "source": [
    "### Creates output labels and POS tagging corresponding to each token in input sentence ###"
   ]
  },
  {
   "cell_type": "code",
   "execution_count": 1,
   "metadata": {},
   "outputs": [],
   "source": [
    "import pandas as pd\n",
    "import numpy as np\n",
    "import json\n",
    "import re\n",
    "import os, glob\n",
    "import sys\n",
    "import seaborn as sns\n",
    "import matplotlib.pyplot as plt\n",
    "import zipfile"
   ]
  },
  {
   "cell_type": "code",
   "execution_count": 2,
   "metadata": {},
   "outputs": [
    {
     "name": "stderr",
     "output_type": "stream",
     "text": [
      "[nltk_data] Downloading package punkt to\n",
      "[nltk_data]     C:\\Users\\ankit\\AppData\\Roaming\\nltk_data...\n",
      "[nltk_data]   Package punkt is already up-to-date!\n",
      "[nltk_data] Downloading package stopwords to\n",
      "[nltk_data]     C:\\Users\\ankit\\AppData\\Roaming\\nltk_data...\n",
      "[nltk_data]   Package stopwords is already up-to-date!\n"
     ]
    },
    {
     "data": {
      "text/plain": [
       "True"
      ]
     },
     "execution_count": 2,
     "metadata": {},
     "output_type": "execute_result"
    }
   ],
   "source": [
    "from nltk.corpus import stopwords\n",
    "from nltk.tokenize import word_tokenize\n",
    "import nltk\n",
    "nltk.download('punkt')\n",
    "nltk.download('stopwords')"
   ]
  },
  {
   "cell_type": "code",
   "execution_count": 4,
   "metadata": {},
   "outputs": [],
   "source": [
    "## converts input text into tokens and returns tokens and their POS tagging obtained using NLTK library methods \n",
    "def tokenize(string):\n",
    "    tokens = word_tokenize(string)\n",
    "    pos_tags = [x[1] for x in nltk.pos_tag(tokens)]\n",
    "    return tokens, pos_tags"
   ]
  },
  {
   "cell_type": "code",
   "execution_count": 9,
   "metadata": {},
   "outputs": [],
   "source": [
    "## converts each keyword into tokens and assign them output label and POS tag  \n",
    "## To distinguish each keyword type in the output, the IOB output label of each token is appended with the corresponding keyword's type.\n",
    "## INPUT:  text => list of keywords, position => a list of integres indicating keywords's start and end index in the text\n",
    "## OUTPUT: text_tokens => list of tokens, text_annotations => list of output labels, text_pos_tags => list of POS tags\n",
    "def annotate_tokens_by_position(text, position):\n",
    "    start = 0\n",
    "    text_tokens = []\n",
    "    text_annotations = []\n",
    "    text_pos_tags = []\n",
    "    covered = np.zeros(len(text))\n",
    "    for ind in range(len(position)):\n",
    "        if position[ind][0] - start >= 1:\n",
    "            end = position[ind][0]\n",
    "            substr = text[start:end]\n",
    "            covered[start:end] = 1\n",
    "            tokens, pos_tags = tokenize(substr)\n",
    "            for i, token in enumerate(tokens):\n",
    "                if token == '':\n",
    "                    continue\n",
    "                text_tokens.append(token)\n",
    "                text_annotations.append('O')\n",
    "                text_pos_tags.append(pos_tags[i])\n",
    "                \n",
    "        if (covered[position[ind][0]:position[ind][1]+1].any()):\n",
    "            continue                \n",
    "        keyphrase_tokens, pos_tags = tokenize(text[position[ind][0]:position[ind][1]+1])\n",
    "        covered[position[ind][0]:position[ind][1]+1] = 1\n",
    "        label = position[ind][3]\n",
    "        for i, token in enumerate(keyphrase_tokens):\n",
    "            if i == 0:\n",
    "                text_annotations.append('B_' + label)\n",
    "            else:\n",
    "                text_annotations.append('I_' + label)\n",
    "            text_tokens.append(token)\n",
    "            text_pos_tags.append(pos_tags[i])\n",
    "            \n",
    "        start = position[ind][1] + 1\n",
    "        \n",
    "    return text_tokens, text_annotations, text_pos_tags\n",
    "            "
   ]
  },
  {
   "cell_type": "code",
   "execution_count": null,
   "metadata": {},
   "outputs": [],
   "source": [
    "data_dir = 'data/train2/' #directory name containing files corresponding to training data\n",
    "mode = 'train'\n",
    "\n",
    "## uncomment below code to process test instead of train data\n",
    "# data_dir = 'data/semeval_articles_test/'\n",
    "# mode = 'test'"
   ]
  },
  {
   "cell_type": "code",
   "execution_count": null,
   "metadata": {},
   "outputs": [],
   "source": [
    "filenames = []\n",
    "for file in os.listdir(data_dir):\n",
    "    if file.endswith(\".txt\"):\n",
    "        filenames.append(data_dir + file.split('.')[0])\n",
    "len(filenames)"
   ]
  },
  {
   "cell_type": "code",
   "execution_count": 10,
   "metadata": {},
   "outputs": [],
   "source": [
    "annotations = []\n",
    "text_sentences = []\n",
    "pos_tags = []\n",
    "for file in filenames:\n",
    "    try:\n",
    "        text_file = open(file+'.txt', 'r', encoding=\"utf8\")\n",
    "        annotation_file = open(file+'.ann', 'r', encoding=\"utf8\")\n",
    "        keyphrases = []\n",
    "        labels = []\n",
    "        position = []\n",
    "        for line in annotation_file:\n",
    "            line_split = line.split()\n",
    "            if(line_split[0][0] == 'T'):\n",
    "                if ';' not in line:\n",
    "                    position.append((int(line_split[2]),int(line_split[3]), \" \".join(line_split[4:]), line_split[1]))\n",
    "                else:\n",
    "                    spans = line.split(\"\\t\")[1].split(\";\")\n",
    "                    position.append((int(spans[0].split(\" \")[1]), int(spans[-1].split(\" \")[1]), line.split(\"\\t\")[2], spans[0].split(\" \")[0]))\n",
    "\n",
    "        text = text_file.read().replace(\"\\n\", \" \")\n",
    "        position = sorted(position, key=lambda tup: tup[0])\n",
    "\n",
    "        text_tokens, text_annotations, text_tags = annotate_tokens_by_position(text, position)\n",
    "        annotations.append(text_annotations)\n",
    "        text_sentences.append(text_tokens)\n",
    "        pos_tags.append(text_tags)\n",
    "    except Exception as e:\n",
    "        print(line)\n",
    "        print(file)\n",
    "        print(e)"
   ]
  },
  {
   "cell_type": "code",
   "execution_count": 8,
   "metadata": {},
   "outputs": [],
   "source": [
    "with open('data/' + mode + '_tokens_annotations.npy', 'wb') as f:\n",
    "    np.save(f, np.array(annotations), allow_pickle=True)\n",
    "with open('data/' + mode + '_tokens_sentences.npy', 'wb') as f:\n",
    "    np.save(f, np.array(text_sentences), allow_pickle=True)\n",
    "with open('data/'+ mode + '_pos_tag.npy', 'wb') as f:\n",
    "    np.save(f, np.array(pos_tags), allow_pickle=True)"
   ]
  }
 ],
 "metadata": {
  "kernelspec": {
   "display_name": "Python 3",
   "language": "python",
   "name": "python3"
  },
  "language_info": {
   "codemirror_mode": {
    "name": "ipython",
    "version": 3
   },
   "file_extension": ".py",
   "mimetype": "text/x-python",
   "name": "python",
   "nbconvert_exporter": "python",
   "pygments_lexer": "ipython3",
   "version": "3.8.5"
  }
 },
 "nbformat": 4,
 "nbformat_minor": 4
}
